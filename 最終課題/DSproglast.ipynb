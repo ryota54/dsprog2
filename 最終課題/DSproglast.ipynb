{
 "cells": [
  {
   "cell_type": "code",
   "execution_count": 36,
   "metadata": {},
   "outputs": [
    {
     "name": "stdout",
     "output_type": "stream",
     "text": [
      " 月～月  降水量(mm) 雪(cm)\n",
      "12～2    125.0     3\n",
      " 7～9    472.0    --\n"
     ]
    },
    {
     "name": "stderr",
     "output_type": "stream",
     "text": [
      "/var/folders/8h/0z8n_llj7cz2xdl2kzhls85c0000gn/T/ipykernel_30275/1519109389.py:18: FutureWarning: Passing literal html to 'read_html' is deprecated and will be removed in a future version. To read from a literal string, wrap it in a 'StringIO' object.\n",
      "  df = pd.read_html(table.get_attribute('outerHTML'))[0]\n"
     ]
    }
   ],
   "source": [
    "import helium\n",
    "import pandas as pd\n",
    "import time\n",
    "from selenium.webdriver.common.by import By\n",
    "from sqlalchemy import create_engine\n",
    "\n",
    "\n",
    "def get_data():\n",
    "    url = 'https://www.data.jma.go.jp/obd/stats/etrn/view/3monthly_s1.php?prec_no=45&block_no=47682&year=2024&month=7&day=13&view='\n",
    "    browser = helium.start_chrome(url, headless=False)  # headless=Falseでブラウザを表示\n",
    "    time.sleep(5)  # ページの読み込み時間を増やす\n",
    "    \n",
    "    # 特定のセレクタからデータを取得\n",
    "    table_selector = '#tablefix1'\n",
    "    table = browser.find_element(By.CSS_SELECTOR, table_selector)\n",
    "    \n",
    "    if table:\n",
    "        df = pd.read_html(table.get_attribute('outerHTML'))[0]\n",
    "        # 必要な列だけを選択\n",
    "        df_filtered = df.iloc[[1,8], [0, 3, 21]]\n",
    "        df_filtered.columns = ['月～月', '降水量(mm)', '雪(cm)']\n",
    "    else:\n",
    "        df_filtered = pd.DataFrame(columns=['月～月', '降水量(mm)', '雪(cm)'])  # テーブルが見つからない場合は空のデータフレームを返す\n",
    "    \n",
    "    browser.quit()\n",
    "    return df_filtered\n",
    "\n",
    "def save_to_db(df):\n",
    "    # SQLiteデータベースに接続\n",
    "    engine = create_engine('sqlite:///weathertiba_data.db')\n",
    "    # データフレームをデータベースに保存\n",
    "    df.to_sql('weather', con=engine, if_exists='replace', index=False)\n",
    "\n",
    "def display_db():\n",
    "    # SQLiteデータベースに接続\n",
    "    engine = create_engine('sqlite:///weathertiba_data.db')\n",
    "    # データベースからデータを読み込む\n",
    "    df = pd.read_sql('weather', con=engine)\n",
    "    # データを整形して表示\n",
    "    print(df.to_string(index=False))\n",
    "\n",
    "def main():\n",
    "    df = get_data()\n",
    "    save_to_db(df)\n",
    "    display_db()\n",
    "\n",
    "# main関数を呼び出す\n",
    "if __name__ == \"__main__\":\n",
    "    main()"
   ]
  },
  {
   "cell_type": "code",
   "execution_count": 35,
   "metadata": {},
   "outputs": [
    {
     "name": "stdout",
     "output_type": "stream",
     "text": [
      " 月～月  降水量(mm) 雪(cm)\n",
      "12～2    610.5    73\n",
      " 7～9    710.5    --\n"
     ]
    },
    {
     "name": "stderr",
     "output_type": "stream",
     "text": [
      "/var/folders/8h/0z8n_llj7cz2xdl2kzhls85c0000gn/T/ipykernel_30275/3122777325.py:18: FutureWarning: Passing literal html to 'read_html' is deprecated and will be removed in a future version. To read from a literal string, wrap it in a 'StringIO' object.\n",
      "  df = pd.read_html(table.get_attribute('outerHTML'))[0]\n"
     ]
    }
   ],
   "source": [
    "import helium\n",
    "import pandas as pd\n",
    "import time\n",
    "from selenium.webdriver.common.by import By\n",
    "from sqlalchemy import create_engine\n",
    "\n",
    "\n",
    "def get_data():\n",
    "    url = 'https://www.data.jma.go.jp/obd/stats/etrn/view/3monthly_s1.php?prec_no=54&block_no=47604&year=2024&month=12&day=13&view=p1'\n",
    "    browser = helium.start_chrome(url, headless=False)  # headless=Falseでブラウザを表示\n",
    "    time.sleep(5)  # ページの読み込み時間を増やす\n",
    "    \n",
    "    # 特定のセレクタからデータを取得\n",
    "    table_selector = '#tablefix1'\n",
    "    table = browser.find_element(By.CSS_SELECTOR, table_selector)\n",
    "    \n",
    "    if table:\n",
    "        df = pd.read_html(table.get_attribute('outerHTML'))[0]\n",
    "        # 必要な列だけを選択\n",
    "        df_filtered = df.iloc[[1,8], [0, 3, 21]]\n",
    "        df_filtered.columns = ['月～月', '降水量(mm)', '雪(cm)']\n",
    "    else:\n",
    "        df_filtered = pd.DataFrame(columns=['月～月', '降水量(mm)', '雪(cm)'])  # テーブルが見つからない場合は空のデータフレームを返す\n",
    "    \n",
    "    browser.quit()\n",
    "    return df_filtered\n",
    "\n",
    "def save_to_db(df):\n",
    "    # SQLiteデータベースに接続\n",
    "    engine = create_engine('sqlite:///weatherniigata_data.db')\n",
    "    # データフレームをデータベースに保存\n",
    "    df.to_sql('weather', con=engine, if_exists='replace', index=False)\n",
    "\n",
    "def display_db():\n",
    "    # SQLiteデータベースに接続\n",
    "    engine = create_engine('sqlite:///weatherniigata_data.db')\n",
    "    # データベースからデータを読み込む\n",
    "    df = pd.read_sql('weather', con=engine)\n",
    "    # データを整形して表示\n",
    "    print(df.to_string(index=False))\n",
    "\n",
    "def main():\n",
    "    df = get_data()\n",
    "    save_to_db(df)\n",
    "    display_db()\n",
    "\n",
    "# main関数を呼び出す\n",
    "if __name__ == \"__main__\":\n",
    "    main()"
   ]
  },
  {
   "cell_type": "code",
   "execution_count": 27,
   "metadata": {},
   "outputs": [
    {
     "name": "stdout",
     "output_type": "stream",
     "text": [
      "   地域コード  県名  交通事故件数\n",
      "21    15  新潟    2490\n",
      "21    15  新潟     254\n",
      "21    15  新潟     457\n"
     ]
    },
    {
     "name": "stderr",
     "output_type": "stream",
     "text": [
      "/var/folders/8h/0z8n_llj7cz2xdl2kzhls85c0000gn/T/ipykernel_30275/1426592677.py:29: SettingWithCopyWarning: \n",
      "A value is trying to be set on a copy of a slice from a DataFrame.\n",
      "Try using .loc[row_indexer,col_indexer] = value instead\n",
      "\n",
      "See the caveats in the documentation: https://pandas.pydata.org/pandas-docs/stable/user_guide/indexing.html#returning-a-view-versus-a-copy\n",
      "  niigata_df['交通事故件数'] = niigata_df['交通事故件数'].str.replace(',', '').astype(int)\n"
     ]
    }
   ],
   "source": [
    "import pandas as pd\n",
    "\n",
    "# CSVファイルのパス\n",
    "file1 = '/Users/aoshimaryouta/DSprog2/最終課題/1.csv'\n",
    "file2 = '/Users/aoshimaryouta/DSprog2/最終課題/2.csv'\n",
    "file3 = '/Users/aoshimaryouta/DSprog2/最終課題/12.csv'\n",
    "\n",
    "# 必要な列だけを読み込む\n",
    "usecols = ['地域コード', '県名', '交通事故件数']\n",
    "\n",
    "# ファイルを開いてエンコーディングエラーを無視しながら読み込む関数\n",
    "def read_csv_ignore_errors(file_path):\n",
    "    with open(file_path, encoding='utf-8', errors='ignore') as f:\n",
    "        return pd.read_csv(f, header=2, usecols=usecols)\n",
    "\n",
    "# CSVファイルを読み込む\n",
    "df1 = read_csv_ignore_errors(file1)\n",
    "df2 = read_csv_ignore_errors(file2)\n",
    "df3 = read_csv_ignore_errors(file3)\n",
    "\n",
    "\n",
    "# データフレームを結合する\n",
    "merged_df = pd.concat([df1, df2, df3])\n",
    "\n",
    "# 新潟県のデータを抽出する\n",
    "niigata_df = merged_df[merged_df['県名'] == '新潟']\n",
    "\n",
    "# 交通事故件数の列からカンマを削除して数値に変換する\n",
    "niigata_df['交通事故件数'] = niigata_df['交通事故件数'].str.replace(',', '').astype(int)\n",
    "\n",
    "# 抽出したデータフレームを表示する\n",
    "print(niigata_df)\n",
    "\n",
    "# 新潟県のデータをCSVファイルに保存する\n",
    "niigata_df.to_csv('niigata_accidents_winter.csv', index=False)\n",
    "\n"
   ]
  },
  {
   "cell_type": "code",
   "execution_count": 26,
   "metadata": {},
   "outputs": [
    {
     "name": "stdout",
     "output_type": "stream",
     "text": [
      "   地域コード  県名  交通事故件数\n",
      "21    15  新潟    1485\n",
      "21    15  新潟    1697\n",
      "21    15  新潟    1913\n"
     ]
    },
    {
     "name": "stderr",
     "output_type": "stream",
     "text": [
      "/var/folders/8h/0z8n_llj7cz2xdl2kzhls85c0000gn/T/ipykernel_30275/2402291107.py:29: SettingWithCopyWarning: \n",
      "A value is trying to be set on a copy of a slice from a DataFrame.\n",
      "Try using .loc[row_indexer,col_indexer] = value instead\n",
      "\n",
      "See the caveats in the documentation: https://pandas.pydata.org/pandas-docs/stable/user_guide/indexing.html#returning-a-view-versus-a-copy\n",
      "  niigata_df['交通事故件数'] = niigata_df['交通事故件数'].str.replace(',', '').astype(int)\n"
     ]
    }
   ],
   "source": [
    "import pandas as pd\n",
    "\n",
    "# CSVファイルのパス\n",
    "file1 = '/Users/aoshimaryouta/DSprog2/最終課題/7.csv'\n",
    "file2 = '/Users/aoshimaryouta/DSprog2/最終課題/8.csv'\n",
    "file3 = '/Users/aoshimaryouta/DSprog2/最終課題/9.csv'\n",
    "\n",
    "# 必要な列だけを読み込む\n",
    "usecols = ['地域コード', '県名', '交通事故件数']\n",
    "\n",
    "# ファイルを開いてエンコーディングエラーを無視しながら読み込む関数\n",
    "def read_csv_ignore_errors(file_path):\n",
    "    with open(file_path, encoding='utf-8', errors='ignore') as f:\n",
    "        return pd.read_csv(f, header=2, usecols=usecols)\n",
    "\n",
    "# CSVファイルを読み込む\n",
    "df1 = read_csv_ignore_errors(file1)\n",
    "df2 = read_csv_ignore_errors(file2)\n",
    "df3 = read_csv_ignore_errors(file3)\n",
    "\n",
    "\n",
    "# データフレームを結合する\n",
    "merged_df = pd.concat([df1, df2, df3])\n",
    "\n",
    "# 新潟県のデータを抽出する\n",
    "niigata_df = merged_df[merged_df['県名'] == '新潟']\n",
    "\n",
    "# 交通事故件数の列からカンマを削除して数値に変換する\n",
    "niigata_df['交通事故件数'] = niigata_df['交通事故件数'].str.replace(',', '').astype(int)\n",
    "\n",
    "# 抽出したデータフレームを表示する\n",
    "print(niigata_df)\n",
    "\n",
    "# 新潟県のデータをCSVファイルに保存する\n",
    "niigata_df.to_csv('niigata_accidents_summer.csv', index=False)"
   ]
  },
  {
   "cell_type": "code",
   "execution_count": 41,
   "metadata": {},
   "outputs": [
    {
     "name": "stdout",
     "output_type": "stream",
     "text": [
      "   地域コード  県名  交通事故件数\n",
      "19    12  千葉   12160\n",
      "19    12  千葉    1017\n",
      "19    12  千葉    1958\n"
     ]
    },
    {
     "name": "stderr",
     "output_type": "stream",
     "text": [
      "/var/folders/8h/0z8n_llj7cz2xdl2kzhls85c0000gn/T/ipykernel_30275/3090137169.py:29: SettingWithCopyWarning: \n",
      "A value is trying to be set on a copy of a slice from a DataFrame.\n",
      "Try using .loc[row_indexer,col_indexer] = value instead\n",
      "\n",
      "See the caveats in the documentation: https://pandas.pydata.org/pandas-docs/stable/user_guide/indexing.html#returning-a-view-versus-a-copy\n",
      "  tiba_df['交通事故件数'] = tiba_df['交通事故件数'].str.replace(',', '').astype(int)\n"
     ]
    }
   ],
   "source": [
    "import pandas as pd\n",
    "\n",
    "# CSVファイルのパス\n",
    "file1 = '/Users/aoshimaryouta/DSprog2/最終課題/1.csv'\n",
    "file2 = '/Users/aoshimaryouta/DSprog2/最終課題/2.csv'\n",
    "file3 = '/Users/aoshimaryouta/DSprog2/最終課題/12.csv'\n",
    "\n",
    "# 必要な列だけを読み込む\n",
    "usecols = ['地域コード', '県名', '交通事故件数']\n",
    "\n",
    "# ファイルを開いてエンコーディングエラーを無視しながら読み込む関数\n",
    "def read_csv_ignore_errors(file_path):\n",
    "    with open(file_path, encoding='utf-8', errors='ignore') as f:\n",
    "        return pd.read_csv(f, header=2, usecols=usecols)\n",
    "\n",
    "# CSVファイルを読み込む\n",
    "df1 = read_csv_ignore_errors(file1)\n",
    "df2 = read_csv_ignore_errors(file2)\n",
    "df3 = read_csv_ignore_errors(file3)\n",
    "\n",
    "\n",
    "# データフレームを結合する\n",
    "merged_df = pd.concat([df1, df2, df3])\n",
    "\n",
    "# 千葉県のデータを抽出する\n",
    "tiba_df = merged_df[merged_df['県名'] == '千葉']\n",
    "\n",
    "# 交通事故件数の列からカンマを削除して数値に変換する\n",
    "tiba_df['交通事故件数'] = tiba_df['交通事故件数'].str.replace(',', '').astype(int)\n",
    "\n",
    "# 抽出したデータフレームを表示する\n",
    "print(tiba_df)\n",
    "\n",
    "# 千葉県のデータをCSVファイルに保存する\n",
    "tiba_df.to_csv('tiba_accidents_winter.csv', index=False)"
   ]
  },
  {
   "cell_type": "code",
   "execution_count": 44,
   "metadata": {},
   "outputs": [
    {
     "name": "stdout",
     "output_type": "stream",
     "text": [
      "   地域コード  県名  交通事故件数\n",
      "19    12  千葉    7056\n",
      "19    12  千葉    7943\n",
      "19    12  千葉    8986\n"
     ]
    },
    {
     "name": "stderr",
     "output_type": "stream",
     "text": [
      "/var/folders/8h/0z8n_llj7cz2xdl2kzhls85c0000gn/T/ipykernel_30275/1378373528.py:29: SettingWithCopyWarning: \n",
      "A value is trying to be set on a copy of a slice from a DataFrame.\n",
      "Try using .loc[row_indexer,col_indexer] = value instead\n",
      "\n",
      "See the caveats in the documentation: https://pandas.pydata.org/pandas-docs/stable/user_guide/indexing.html#returning-a-view-versus-a-copy\n",
      "  tiba_df['交通事故件数'] = tiba_df['交通事故件数'].str.replace(',', '').astype(int)\n"
     ]
    }
   ],
   "source": [
    "import pandas as pd\n",
    "\n",
    "# CSVファイルのパス\n",
    "file1 = '/Users/aoshimaryouta/DSprog2/最終課題/7.csv'\n",
    "file2 = '/Users/aoshimaryouta/DSprog2/最終課題/8.csv'\n",
    "file3 = '/Users/aoshimaryouta/DSprog2/最終課題/9.csv'\n",
    "\n",
    "# 必要な列だけを読み込む\n",
    "usecols = ['地域コード', '県名', '交通事故件数']\n",
    "\n",
    "# ファイルを開いてエンコーディングエラーを無視しながら読み込む関数\n",
    "def read_csv_ignore_errors(file_path):\n",
    "    with open(file_path, encoding='utf-8', errors='ignore') as f:\n",
    "        return pd.read_csv(f, header=2, usecols=usecols)\n",
    "\n",
    "# CSVファイルを読み込む\n",
    "df1 = read_csv_ignore_errors(file1)\n",
    "df2 = read_csv_ignore_errors(file2)\n",
    "df3 = read_csv_ignore_errors(file3)\n",
    "\n",
    "\n",
    "# データフレームを結合する\n",
    "merged_df = pd.concat([df1, df2, df3])\n",
    "\n",
    "# 千葉県のデータを抽出する\n",
    "tiba_df = merged_df[merged_df['県名'] == '千葉']\n",
    "\n",
    "# 交通事故件数の列からカンマを削除して数値に変換する\n",
    "tiba_df['交通事故件数'] = tiba_df['交通事故件数'].str.replace(',', '').astype(int)\n",
    "\n",
    "# 抽出したデータフレームを表示する\n",
    "print(tiba_df)\n",
    "\n",
    "# 千葉県のデータをCSVファイルに保存する\n",
    "tiba_df.to_csv('tiba_accidents_summer.csv', index=False)"
   ]
  },
  {
   "cell_type": "code",
   "execution_count": 46,
   "metadata": {},
   "outputs": [
    {
     "name": "stdout",
     "output_type": "stream",
     "text": [
      "新潟の夏の交通事故件数の合計: 5095\n",
      "新潟の冬の交通事故件数の合計: 3201\n",
      "千葉の夏の交通事故件数の合計: 23985\n",
      "千葉の冬の交通事故件数の合計: 15135\n"
     ]
    }
   ],
   "source": [
    "# CSVファイルを読み込む\n",
    "df1= pd.read_csv('niigata_accidents_summer.csv')\n",
    "df2= pd.read_csv('niigata_accidents_winter.csv')\n",
    "df3= pd.read_csv('tiba_accidents_summer.csv')\n",
    "df4= pd.read_csv('tiba_accidents_winter.csv')\n",
    "\n",
    "# 交通事故件数の合計を計算する\n",
    "total_accidents1 = df1['交通事故件数'].sum()\n",
    "total_accidents2 = df2['交通事故件数'].sum()\n",
    "total_accidents3 = df3['交通事故件数'].sum()\n",
    "total_accidents4 = df4['交通事故件数'].sum()\n",
    "\n",
    "# 交通事故件数の合計を表示する\n",
    "print('新潟の夏の交通事故件数の合計:', total_accidents1)\n",
    "print('新潟の冬の交通事故件数の合計:', total_accidents2)\n",
    "print('千葉の夏の交通事故件数の合計:', total_accidents3)\n",
    "print('千葉の冬の交通事故件数の合計:', total_accidents4)"
   ]
  },
  {
   "cell_type": "code",
   "execution_count": 12,
   "metadata": {},
   "outputs": [
    {
     "name": "stdout",
     "output_type": "stream",
     "text": [
      "千葉県の冬の合計交通事故件数: 15135\n",
      "千葉県の夏の合計交通事故件数: 23985\n",
      "新潟県の冬の合計交通事故件数: 3201\n",
      "新潟県の夏の合計交通事故件数: 5095\n"
     ]
    },
    {
     "data": {
      "image/png": "[encoded data removed]",
      "text/plain": [
       "<Figure size 640x480 with 1 Axes>"
      ]
     },
     "metadata": {},
     "output_type": "display_data"
    },
    {
     "data": {
      "image/png": "[encoded data removed]",
      "text/plain": [
       "<Figure size 640x480 with 1 Axes>"
      ]
     },
     "metadata": {},
     "output_type": "display_data"
    }
   ],
   "source": [
    "import pandas as pd\n",
    "import matplotlib.pyplot as plt\n",
    "from matplotlib.font_manager import FontProperties\n",
    "\n",
    "# CSVファイルのパス\n",
    "tiba_winter_file = '/Users/aoshimaryouta/DSprog2/最終課題/tiba_accidents_winter.csv'\n",
    "tiba_summer_file = '/Users/aoshimaryouta/DSprog2/最終課題/tiba_accidents_summer.csv'\n",
    "niigata_winter_file = '/Users/aoshimaryouta/DSprog2/最終課題/niigata_accidents_winter.csv'\n",
    "niigata_summer_file = '/Users/aoshimaryouta/DSprog2/最終課題/niigata_accidents_summer.csv'\n",
    "\n",
    "# CSVファイルを読み込む\n",
    "tiba_winter_df = pd.read_csv(tiba_winter_file)\n",
    "tiba_summer_df = pd.read_csv(tiba_summer_file)\n",
    "niigata_winter_df = pd.read_csv(niigata_winter_file)\n",
    "niigata_summer_df = pd.read_csv(niigata_summer_file)\n",
    "\n",
    "# 交通事故件数の合計を計算する\n",
    "tiba_winter_total = tiba_winter_df['交通事故件数'].sum()\n",
    "tiba_summer_total = tiba_summer_df['交通事故件数'].sum()\n",
    "niigata_winter_total = niigata_winter_df['交通事故件数'].sum()\n",
    "niigata_summer_total = niigata_summer_df['交通事故件数'].sum()\n",
    "\n",
    "# 合計を表示する\n",
    "print(f'千葉県の冬の合計交通事故件数: {tiba_winter_total}')\n",
    "print(f'千葉県の夏の合計交通事故件数: {tiba_summer_total}')\n",
    "print(f'新潟県の冬の合計交通事故件数: {niigata_winter_total}')\n",
    "print(f'新潟県の夏の合計交通事故件数: {niigata_summer_total}')\n",
    "\n",
    "# データフレームを作成\n",
    "data = {\n",
    "    'season': ['summur', 'winter'],\n",
    "    'niigata': [niigata_summer_total, niigata_winter_total],\n",
    "    'tiba': [tiba_summer_total, tiba_winter_total]\n",
    "}\n",
    "\n",
    "df_season = pd.DataFrame(data)\n",
    "\n",
    "# 棒グラフを作成\n",
    "df_season.plot(x='season', y=['niigata', 'tiba'], kind='bar')\n",
    "plt.title('Comparison of the number of traffic accidents by season')\n",
    "plt.xlabel('season')\n",
    "plt.ylabel('number of traffic accidents')\n",
    "plt.show()\n",
    "\n",
    "# 折れ線グラフを作成\n",
    "df_season.plot(x='season', y=['niigata', 'tiba'], kind='line', marker='o')\n",
    "plt.title(f\"Comparison of the number of traffic accidents by season\", fontsize=14)\n",
    "plt.xlabel(\"season\",fontsize=12)\n",
    "plt.ylabel(\"number of traffic accidents\",fontsize=12)\n",
    "plt.show()\n",
    "\n"
   ]
  },
  {
   "cell_type": "code",
   "execution_count": 13,
   "metadata": {},
   "outputs": [
    {
     "name": "stdout",
     "output_type": "stream",
     "text": [
      "新潟の夏の交通事故件数の合計: 5095\n",
      "新潟の冬の交通事故件数の合計: 3201\n",
      "千葉の夏の交通事故件数の合計: 23985\n",
      "千葉の冬の交通事故件数の合計: 15135\n"
     ]
    },
    {
     "data": {
      "image/png": "[encoded data removed]",
      "text/plain": [
       "<Figure size 640x480 with 1 Axes>"
      ]
     },
     "metadata": {},
     "output_type": "display_data"
    },
    {
     "data": {
      "image/png": "[encoded data removed]",
      "text/plain": [
       "<Figure size 640x480 with 1 Axes>"
      ]
     },
     "metadata": {},
     "output_type": "display_data"
    }
   ],
   "source": [
    "#千葉と新潟の交通事故件数の合計を比較する\n",
    "import pandas as pd\n",
    "import matplotlib.pyplot as plt\n",
    "\n",
    "# CSVファイルを読み込む\n",
    "df1 = pd.read_csv('niigata_accidents_summer.csv')\n",
    "df2 = pd.read_csv('niigata_accidents_winter.csv')\n",
    "df3 = pd.read_csv('tiba_accidents_summer.csv')\n",
    "df4 = pd.read_csv('tiba_accidents_winter.csv')\n",
    "\n",
    "# 交通事故件数の合計を計算する\n",
    "total_accidents1 = df1['交通事故件数'].sum()\n",
    "total_accidents2 = df2['交通事故件数'].sum()\n",
    "total_accidents3 = df3['交通事故件数'].sum()\n",
    "total_accidents4 = df4['交通事故件数'].sum()\n",
    "\n",
    "# 交通事故件数の合計を表示する\n",
    "print('新潟の夏の交通事故件数の合計:', total_accidents1)\n",
    "print('新潟の冬の交通事故件数の合計:', total_accidents2)\n",
    "print('千葉の夏の交通事故件数の合計:', total_accidents3)\n",
    "print('千葉の冬の交通事故件数の合計:', total_accidents4)\n",
    "\n",
    "# データフレームを作成\n",
    "data = {\n",
    "    'season': ['summer', 'winter'],\n",
    "    'niigata': [total_accidents1, total_accidents2],\n",
    "    'tiba': [total_accidents3, total_accidents4]\n",
    "}\n",
    "\n",
    "df_season = pd.DataFrame(data)\n",
    "\n",
    "#円グラフ\n",
    "plt.pie(df_season['niigata'], labels=df_season['season'], autopct='%1.1f%%')\n",
    "plt.axis('equal')\n",
    "plt.title('niigata')\n",
    "plt.show()\n",
    "\n",
    "plt.pie(df_season['tiba'], labels=df_season['season'], autopct='%1.1f%%')\n",
    "plt.axis('equal')\n",
    "plt.title('tiba')\n",
    "plt.show()\n",
    "\n"
   ]
  },
  {
   "cell_type": "code",
   "execution_count": null,
   "metadata": {
    "vscode": {
     "languageId": "ini"
    }
   },
   "outputs": [],
   "source": [
    "from sqlalchemy import create_engine\n",
    "\n",
    "\n",
    "# SQLiteデータベースに接続\n",
    "engine_tiba = create_engine('sqlite:///weathertiba_data.db')\n",
    "engine_niigata = create_engine('sqlite:///weatherniigata_data.db')\n",
    "\n",
    "# データベースからデータを読み込む\n",
    "df_tiba = pd.read_sql('weather', con=engine_tiba)\n",
    "df_niigata = pd.read_sql('weather', con=engine_niigata)\n",
    "\n",
    "# データを表示\n",
    "print(\"千葉のデータ:\")\n",
    "print(df_tiba)\n",
    "print(\"\\n新潟のデータ:\")\n",
    "print(df_niigata)\n",
    "import matplotlib.pyplot as plt\n",
    "\n",
    "# データフレームを作成\n",
    "data = {\n",
    "    'season': ['summer', 'winter'],\n",
    "    'niigata': [df_niigata['降水量(mm)'].sum(), df_niigata['雪(cm)'].sum()],\n",
    "    'tiba': [df_tiba['降水量(mm)'].sum(), df_tiba['雪(cm)'].sum()]\n",
    "}\n",
    "\n",
    "df_season_weather = pd.DataFrame(data)\n",
    "\n",
    "# 棒グラフを作成\n",
    "df_season_weather.plot(x='season', y=['niigata', 'tiba'], kind='bar')\n",
    "plt.title('Comparison of precipitation and snow by season')\n",
    "plt.xlabel('Season')\n",
    "plt.ylabel('Total precipitation (mm) and snow (cm)')\n",
    "plt.show()\n",
    "\n",
    "# 折れ線グラフを作成\n",
    "df_season_weather.plot(x='season', y=['niigata', 'tiba'], kind='line', marker='o')\n",
    "plt.title('Comparison of precipitation and snow by season')\n",
    "plt.xlabel('Season')\n",
    "plt.ylabel('Total precipitation (mm) and snow (cm)')\n",
    "plt.show()"
   ]
  }
 ],
 "metadata": {
  "kernelspec": {
   "display_name": ".venv",
   "language": "python",
   "name": "python3"
  },
  "language_info": {
   "codemirror_mode": {
    "name": "ipython",
    "version": 3
   },
   "file_extension": ".py",
   "mimetype": "text/x-python",
   "name": "python",
   "nbconvert_exporter": "python",
   "pygments_lexer": "ipython3",
   "version": "3.12.7"
  }
 },
 "nbformat": 4,
 "nbformat_minor": 2
}
